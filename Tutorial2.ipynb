{
  "nbformat": 4,
  "nbformat_minor": 0,
  "metadata": {
    "colab": {
      "provenance": [],
      "toc_visible": true,
      "include_colab_link": true
    },
    "kernelspec": {
      "name": "python3",
      "display_name": "Python 3"
    },
    "language_info": {
      "name": "python"
    }
  },
  "cells": [
    {
      "cell_type": "markdown",
      "metadata": {
        "id": "view-in-github",
        "colab_type": "text"
      },
      "source": [
        "<a href=\"https://colab.research.google.com/github/s29897/PTO2-Python/blob/main/Tutorial2.ipynb\" target=\"_parent\"><img src=\"https://colab.research.google.com/assets/colab-badge.svg\" alt=\"Open In Colab\"/></a>"
      ]
    },
    {
      "cell_type": "markdown",
      "source": [
        "# Tutorial 2"
      ],
      "metadata": {
        "id": "Z-M--VIdAJZf"
      }
    },
    {
      "cell_type": "markdown",
      "source": [
        "In this tutorial, you will explore and learn how to use key Python libraries such as **NumPy**, **Pandas**, and **Matplotlib**. Additionally, you will learn how to import datasets from files as well as from the web."
      ],
      "metadata": {
        "id": "w0uXdskKAFN9"
      }
    },
    {
      "cell_type": "markdown",
      "source": [
        "## Introduction"
      ],
      "metadata": {
        "id": "ObUSshCKmC6N"
      }
    },
    {
      "cell_type": "markdown",
      "source": [
        "### Importing external library\n",
        "You only need to import library **once** at the beginning of the execution chain."
      ],
      "metadata": {
        "id": "AdoGP3sjmG5r"
      }
    },
    {
      "cell_type": "code",
      "source": [
        "import numpy as np"
      ],
      "metadata": {
        "id": "QCJ3Rbi-l7HV"
      },
      "execution_count": null,
      "outputs": []
    },
    {
      "cell_type": "markdown",
      "source": [
        "### NumPy"
      ],
      "metadata": {
        "id": "oXG-ghfMmK0d"
      }
    },
    {
      "cell_type": "markdown",
      "source": [
        "NumPy is used for working with arrays and performing numerical operations."
      ],
      "metadata": {
        "id": "-B8HTxE4mQ5a"
      }
    },
    {
      "cell_type": "markdown",
      "source": [
        "#### Basic operations"
      ],
      "metadata": {
        "id": "EeidbdliT0v_"
      }
    },
    {
      "cell_type": "code",
      "source": [
        "import numpy as np\n",
        "\n",
        "# python array\n",
        "pyarr = [1, 2, 3, 4, 5]\n",
        "print(pyarr)\n",
        "\n",
        "# numpy array\n",
        "arr = np.array([1, 2, 3, 4, 5])\n",
        "print(arr)\n",
        "\n",
        "# Basic operations\n",
        "print(\"Mean:\", np.mean(arr))\n",
        "print(\"Standard Deviation:\", np.std(arr))\n",
        "print(\"Sum:\", np.sum(arr))"
      ],
      "metadata": {
        "id": "DtGHwiMsmNKD",
        "colab": {
          "base_uri": "https://localhost:8080/"
        },
        "outputId": "09efff92-649d-4e5c-e0be-1c88fabe90b2"
      },
      "execution_count": null,
      "outputs": [
        {
          "output_type": "stream",
          "name": "stdout",
          "text": [
            "[1, 2, 3, 4, 5]\n",
            "[1 2 3 4 5]\n",
            "Mean: 3.0\n",
            "Standard Deviation: 1.4142135623730951\n",
            "Sum: 15\n"
          ]
        }
      ]
    },
    {
      "cell_type": "markdown",
      "source": [
        "#### Vectors and matrices"
      ],
      "metadata": {
        "id": "5aGxgxC9T30C"
      }
    },
    {
      "cell_type": "code",
      "source": [
        "# Creating NumPy arrays (1D and 2D)\n",
        "a = np.array([1, 2, 3])            # vector\n",
        "b = np.array([[1, 2], [3, 4]])     # 2x2 matrix\n",
        "\n",
        "# Mathematical operations\n",
        "c = a + 10             # add 10 to each element\n",
        "d = b * 2              # scalar multiplication\n",
        "e = a * a              # element-wise multiplication\n",
        "f = np.dot(a, a)       # dot product (scalar)\n",
        "\n",
        "# Matrix operations\n",
        "dot = np.dot(b, b)       # matrix multiplication\n",
        "transpose = np.transpose(b)    # matrix transpose\n",
        "inverse = np.linalg.inv([[1, 2], [3, 4]])  # matrix inverse (if invertible)\n",
        "\n",
        "print(\"Matrix b * b:\\n\", dot, \"\\n\")\n",
        "print(\"Transpose of b:\\n\", transpose, \"\\n\")\n",
        "print(\"Matrix inverse of matrix [[1, 2], [3, 4]]:\\n\", inverse, \"\\n\")"
      ],
      "metadata": {
        "colab": {
          "base_uri": "https://localhost:8080/"
        },
        "id": "OE4U62dpSLK_",
        "outputId": "e8c350ec-a234-45bd-811f-3f124d42e606"
      },
      "execution_count": null,
      "outputs": [
        {
          "output_type": "stream",
          "name": "stdout",
          "text": [
            "Matrix b * b:\n",
            " [[ 7 10]\n",
            " [15 22]] \n",
            "\n",
            "Transpose of b:\n",
            " [[1 3]\n",
            " [2 4]] \n",
            "\n",
            "Matrix inverse of matrix [[1, 2], [3, 4]]:\n",
            " [[-2.   1. ]\n",
            " [ 1.5 -0.5]] \n",
            "\n"
          ]
        }
      ]
    },
    {
      "cell_type": "markdown",
      "source": [
        "#### Slicing"
      ],
      "metadata": {
        "id": "bRTDj7Eo5IO9"
      }
    },
    {
      "cell_type": "code",
      "source": [
        "# 1d\n",
        "arr = np.arange(1, 10)\n",
        "a = arr[2:4]     # Elements from index 2 to 4\n",
        "b = arr[::2]     # Every second element\n",
        "c = arr[-2:]     # Last 2 elements\n",
        "d = arr[::-2]    # Every second element in reverse order\n",
        "\n",
        "print(\"a) \", a)  # [3 4]\n",
        "print(\"b) \", b)  # [1 3 5 7 9]\n",
        "print(\"c) \", c)  # [8 9]\n",
        "print(\"d) \", d)  # [9 7 5 3 1]\n",
        "\n",
        "print()\n",
        "\n",
        "# 2d\n",
        "arr2d = np.arange(20).reshape(4, 5) # reshape(rows, columns)\n",
        "print(\"Original array:\\n\", arr2d)\n",
        "\n",
        "a2d = arr2d[:3, -3:] # top right corner 3x3\n",
        "b2d = arr2d[2]       # 3rd row\n",
        "\n",
        "print()\n",
        "print(a2d)\n",
        "print(b2d)\n",
        "\n"
      ],
      "metadata": {
        "colab": {
          "base_uri": "https://localhost:8080/"
        },
        "id": "Qsk8SC3a5Jds",
        "outputId": "ef97862a-a62f-4c6b-8774-4ded744a6838"
      },
      "execution_count": null,
      "outputs": [
        {
          "output_type": "stream",
          "name": "stdout",
          "text": [
            "a)  [3 4]\n",
            "b)  [1 3 5 7 9]\n",
            "c)  [8 9]\n",
            "d)  [9 7 5 3 1]\n",
            "\n",
            "Original array:\n",
            " [[ 0  1  2  3  4]\n",
            " [ 5  6  7  8  9]\n",
            " [10 11 12 13 14]\n",
            " [15 16 17 18 19]]\n",
            "\n",
            "[[ 2  3  4]\n",
            " [ 7  8  9]\n",
            " [12 13 14]]\n",
            "[10 11 12 13 14]\n"
          ]
        }
      ]
    },
    {
      "cell_type": "markdown",
      "source": [
        "#### Performance Comparison – For Loop vs Vectorized Operations"
      ],
      "metadata": {
        "id": "VItipObSUIiZ"
      }
    },
    {
      "cell_type": "code",
      "source": [
        "import numpy as np\n",
        "import time\n",
        "\n",
        "n = 1_000_000\n",
        "a = np.arange(n)\n",
        "b = np.arange(n)\n",
        "\n",
        "# Using a for loop\n",
        "start_loop = time.time()\n",
        "c_loop = []\n",
        "for i in range(n):\n",
        "    c_loop.append(a[i] + b[i])\n",
        "end_loop = time.time()\n",
        "\n",
        "# Using vectorized NumPy operation\n",
        "start_vector = time.time()\n",
        "c_vector = a + b\n",
        "end_vector = time.time()\n",
        "\n",
        "print(f\"For loop time: {end_loop - start_loop:.5f} seconds\")\n",
        "print(f\"Vectorized time: {end_vector - start_vector:.5f} seconds\")"
      ],
      "metadata": {
        "colab": {
          "base_uri": "https://localhost:8080/"
        },
        "id": "r7P2o8BzUL2k",
        "outputId": "c68ad64e-a2ec-4b56-9c17-c246d58c331e"
      },
      "execution_count": null,
      "outputs": [
        {
          "output_type": "stream",
          "name": "stdout",
          "text": [
            "For loop time: 0.36233 seconds\n",
            "Vectorized time: 0.00372 seconds\n"
          ]
        }
      ]
    },
    {
      "cell_type": "markdown",
      "source": [
        "### Pandas\n",
        "Pandas is ideal for handling and analyzing data using dataframes (tables)."
      ],
      "metadata": {
        "id": "DGUj_MQ_QbgV"
      }
    },
    {
      "cell_type": "code",
      "source": [
        "import pandas as pd\n",
        "\n",
        "# Creating a simple dataframe\n",
        "data = {\n",
        "    'Name': ['Alice', 'Bob', 'Charlie'],\n",
        "    'Age': [25, 30, 35],\n",
        "    'City': ['New York', 'Paris', 'London']\n",
        "}\n",
        "df = pd.DataFrame(data)\n",
        "\n",
        "print(df)\n",
        "\n",
        "# Exploring the DataFrame\n",
        "print(\"\\n Head:\\n\", df.head())\n",
        "print(\"\\n Describe:\\n\", df.describe(include='all'))"
      ],
      "metadata": {
        "colab": {
          "base_uri": "https://localhost:8080/"
        },
        "id": "48TQ8qNdQceU",
        "outputId": "c683c9e1-ddba-4655-a7ae-2e16cf2bb635"
      },
      "execution_count": null,
      "outputs": [
        {
          "output_type": "stream",
          "name": "stdout",
          "text": [
            "      Name  Age      City\n",
            "0    Alice   25  New York\n",
            "1      Bob   30     Paris\n",
            "2  Charlie   35    London\n",
            "\n",
            " Head:\n",
            "       Name  Age      City\n",
            "0    Alice   25  New York\n",
            "1      Bob   30     Paris\n",
            "2  Charlie   35    London\n",
            "\n",
            " Describe:\n",
            "          Name   Age      City\n",
            "count       3   3.0         3\n",
            "unique      3   NaN         3\n",
            "top     Alice   NaN  New York\n",
            "freq        1   NaN         1\n",
            "mean      NaN  30.0       NaN\n",
            "std       NaN   5.0       NaN\n",
            "min       NaN  25.0       NaN\n",
            "25%       NaN  27.5       NaN\n",
            "50%       NaN  30.0       NaN\n",
            "75%       NaN  32.5       NaN\n",
            "max       NaN  35.0       NaN\n"
          ]
        }
      ]
    },
    {
      "cell_type": "markdown",
      "source": [
        "#### Reading from file\n",
        "\n",
        "The most commonly used function for reading data is `pd.read_csv()` for CSV files.\n",
        "\n",
        "There are also other formats like `read_excel()`, `read_json()`."
      ],
      "metadata": {
        "id": "SfHUTysYLqlq"
      }
    },
    {
      "cell_type": "code",
      "source": [
        "import pandas as pd\n",
        "\n",
        "# Reading a CSV file into a pandas DataFrame\n",
        "df = pd.read_csv('name.csv')\n",
        "\n",
        "# Display the first 5 rows\n",
        "print(df.head())"
      ],
      "metadata": {
        "id": "dTTq-YKnp73j"
      },
      "execution_count": null,
      "outputs": []
    },
    {
      "cell_type": "markdown",
      "source": [
        "Useful parameters\n",
        "\n",
        "`skiprows=1`:\n",
        "- This tells pandas to **skip the first row** when reading the CSV file.\n",
        "- Typically, `skiprows` is used when the first row contains metadata, extra information, or non-tabular data (like headers in a non-standard position or comments).\n",
        "- In this case, the first row will not be included in the DataFrame. For example, if the file contains an introductory row or some description at the top, this parameter ensures that it’s ignored when reading the actual data.\n",
        "\n",
        "`header=None`:\n",
        "- By default, `read_csv()` assumes that the first row contains **column headers** (the names of the columns).\n",
        "- By setting `header=None`, you're telling pandas **not to treat any row as column headers**. Instead, pandas will automatically assign numeric column labels (0, 1, 2, etc.).\n",
        "- This is useful when the CSV file does not have headers or when the header row is not the first row."
      ],
      "metadata": {
        "id": "Mgxwl7yLrYFC"
      }
    },
    {
      "cell_type": "code",
      "source": [
        "df = pd.read_csv(\"height_weight_data.csv\", skiprows = 1, header=None)"
      ],
      "metadata": {
        "id": "Oas7KTxzqaME"
      },
      "execution_count": null,
      "outputs": []
    },
    {
      "cell_type": "markdown",
      "source": [
        "#### Reading files from the web"
      ],
      "metadata": {
        "id": "Sq335VvRtz6K"
      }
    },
    {
      "cell_type": "code",
      "source": [
        "import pandas as pd\n",
        "\n",
        "# URL of the CSV file\n",
        "url = \"https://example.com/path/to/your/file.csv\"\n",
        "\n",
        "# Reading the CSV from the web\n",
        "df = pd.read_csv(url)"
      ],
      "metadata": {
        "id": "cTb1c7eEt2Kp"
      },
      "execution_count": null,
      "outputs": []
    },
    {
      "cell_type": "markdown",
      "source": [
        "### Matplotlib"
      ],
      "metadata": {
        "id": "ltyQAS5MmiZV"
      }
    },
    {
      "cell_type": "markdown",
      "source": [
        "#### Basic graph"
      ],
      "metadata": {
        "id": "Z9DX_KQ4IJyj"
      }
    },
    {
      "cell_type": "code",
      "source": [
        "import matplotlib.pyplot as plt\n",
        "import numpy as np\n",
        "\n",
        "xpoints = np.array([0, 11])\n",
        "ypoints = np.array([0, 128])\n",
        "\n",
        "plt.plot(xpoints, ypoints)\n",
        "plt.show()"
      ],
      "metadata": {
        "colab": {
          "base_uri": "https://localhost:8080/",
          "height": 430
        },
        "id": "9nsJQYK1mi-8",
        "outputId": "105493e6-c500-4b81-ff4c-e9884bb1cd55"
      },
      "execution_count": null,
      "outputs": [
        {
          "output_type": "display_data",
          "data": {
            "text/plain": [
              "<Figure size 640x480 with 1 Axes>"
            ],
            "image/png": "[encoded data removed]"
          },
          "metadata": {}
        }
      ]
    },
    {
      "cell_type": "code",
      "source": [
        "import matplotlib.pyplot as plt\n",
        "import numpy as np\n",
        "\n",
        "data = np.random.random(10)\n",
        "plt.plot(data)\n",
        "plt.show()"
      ],
      "metadata": {
        "colab": {
          "base_uri": "https://localhost:8080/",
          "height": 430
        },
        "id": "YkmNkVDeMP-K",
        "outputId": "04385946-7e8d-4c3c-b91e-1bd1f22ef23e"
      },
      "execution_count": null,
      "outputs": [
        {
          "output_type": "display_data",
          "data": {
            "text/plain": [
              "<Figure size 640x480 with 1 Axes>"
            ],
            "image/png": "[encoded data removed]"
          },
          "metadata": {}
        }
      ]
    },
    {
      "cell_type": "markdown",
      "source": [
        "#### Scatter plot\n",
        "https://en.wikipedia.org/wiki/Scatter_plot"
      ],
      "metadata": {
        "id": "3sdS7uqBIPeQ"
      }
    },
    {
      "cell_type": "code",
      "source": [
        "import matplotlib.pyplot as plt\n",
        "import numpy as np\n",
        "\n",
        "data = [np.random.random(20), np.random.random(20)]\n",
        "plt.scatter(data[0], data[1])\n",
        "plt.show()"
      ],
      "metadata": {
        "colab": {
          "base_uri": "https://localhost:8080/",
          "height": 430
        },
        "id": "8uO3gSxDcY7t",
        "outputId": "53227ed8-25d7-4d10-b4ff-9fe09cbec2ba"
      },
      "execution_count": null,
      "outputs": [
        {
          "output_type": "display_data",
          "data": {
            "text/plain": [
              "<Figure size 640x480 with 1 Axes>"
            ],
            "image/png": "[encoded data removed]"
          },
          "metadata": {}
        }
      ]
    },
    {
      "cell_type": "markdown",
      "source": [
        "#### Pie chart\n",
        "https://en.wikipedia.org/wiki/Pie_chart"
      ],
      "metadata": {
        "id": "wsrcHt0VITyS"
      }
    },
    {
      "cell_type": "code",
      "source": [
        "import matplotlib.pyplot as plt\n",
        "import numpy as np\n",
        "\n",
        "data = np.array([\"apple\", \"banana\", \"apple\", \"pear\", \"banana\", \"orange\", \"banana\", \"apple\", \"orange\", \"apple\", \"apple\", \"apple\"])\n",
        "\n",
        "unique, counts = np.unique(data, return_counts=True)\n",
        "\n",
        "plt.pie(counts, labels=unique, autopct='%1.1f%%', startangle=90)\n",
        "plt.show()"
      ],
      "metadata": {
        "colab": {
          "base_uri": "https://localhost:8080/",
          "height": 406
        },
        "id": "5GUg7lNaRtxR",
        "outputId": "f9ada4f1-daf7-4ddb-a946-5fbea1afc90f"
      },
      "execution_count": null,
      "outputs": [
        {
          "output_type": "display_data",
          "data": {
            "text/plain": [
              "<Figure size 640x480 with 1 Axes>"
            ],
            "image/png": "[encoded data removed]"
          },
          "metadata": {}
        }
      ]
    },
    {
      "cell_type": "markdown",
      "source": [
        "#### Box plot\n",
        "https://en.wikipedia.org/wiki/Box_plot"
      ],
      "metadata": {
        "id": "ylytyzH0IzfY"
      }
    },
    {
      "cell_type": "code",
      "source": [
        "import matplotlib.pyplot as plt\n",
        "import numpy as np\n",
        "\n",
        "data = [12, 30, 31, 35, 37, 40, 32, 33, 34, 41, 38, 28, 45, 31, 36, 58, 69]\n",
        "\n",
        "plt.boxplot(data)\n",
        "plt.show()"
      ],
      "metadata": {
        "colab": {
          "base_uri": "https://localhost:8080/",
          "height": 430
        },
        "id": "jLlvXkaEb8Dd",
        "outputId": "198a8f45-f367-41ea-8e0e-aea9810580f4"
      },
      "execution_count": null,
      "outputs": [
        {
          "output_type": "display_data",
          "data": {
            "text/plain": [
              "<Figure size 640x480 with 1 Axes>"
            ],
            "image/png": "[encoded data removed]"
          },
          "metadata": {}
        }
      ]
    },
    {
      "cell_type": "markdown",
      "source": [
        "#### Histogram\n",
        "https://en.wikipedia.org/wiki/Histogram"
      ],
      "metadata": {
        "id": "g3YUVM8BI8YP"
      }
    },
    {
      "cell_type": "code",
      "source": [
        "import matplotlib.pyplot as plt\n",
        "import numpy as np\n",
        "\n",
        "# Generate random data\n",
        "data = np.random.randn(1000)\n",
        "\n",
        "# Plot histogram\n",
        "plt.hist(data, bins=20, edgecolor='black', alpha=0.5)\n",
        "\n",
        "# Add labels\n",
        "plt.xlabel('Value')\n",
        "plt.ylabel('Frequency')\n",
        "\n",
        "# Show plot\n",
        "plt.show()"
      ],
      "metadata": {
        "colab": {
          "base_uri": "https://localhost:8080/",
          "height": 449
        },
        "id": "GhM2LWW8X_W8",
        "outputId": "ea6c9f94-da85-476a-a85c-ba39aa71933d"
      },
      "execution_count": null,
      "outputs": [
        {
          "output_type": "display_data",
          "data": {
            "text/plain": [
              "<Figure size 640x480 with 1 Axes>"
            ],
            "image/png": "[encoded data removed]"
          },
          "metadata": {}
        }
      ]
    },
    {
      "cell_type": "markdown",
      "source": [
        "## Exercises"
      ],
      "metadata": {
        "id": "16Z784IIVapQ"
      }
    },
    {
      "cell_type": "markdown",
      "source": [
        "#### Exercise 1\n",
        "In this exercise, you will explain the following statistical terms. For each term:\n",
        "\n",
        "1. **Define it** in your own words.\n",
        "2. **Explain how it's calculated** or how it's used.\n",
        "3. **Provide an example** to illustrate the concept.\n",
        "\n",
        "---\n",
        "\n",
        "##### Terms to Explain:\n",
        "\n",
        "1. **Median**\n",
        "   - What is the median? How is it found in a data set?\n",
        "   - Provide an example.\n",
        "   \n",
        "2. **Mean (Average)**\n",
        "   - Define the mean and explain how to calculate it.\n",
        "   - Provide an example.\n",
        "\n",
        "3. **Standard Deviation**\n",
        "   - What does standard deviation measure?\n",
        "   - Briefly explain how to calculate it and provide an example.\n",
        "\n",
        "4. **Quartiles (Q1 and Q3)**\n",
        "   - Define Q1 and Q3. How are they calculated?\n",
        "   - Give an example using a small data set.\n",
        "\n",
        "5. **IQR (Interquartile Range)**\n",
        "   - Define IQR and explain how it’s calculated.\n",
        "   - Provide an example.\n",
        "\n",
        "6. **Variance**\n",
        "   - What is variance, and how is it calculated?\n",
        "   - Explain the relationship between variance and standard deviation.\n",
        "   - Provide an example."
      ],
      "metadata": {
        "id": "0z9yHfGYKt2y"
      }
    },
    {
      "cell_type": "markdown",
      "source": [
        "**Median** - the middle value of a data set once the numbers are put in order. It splits the data so that half the values are at or below it and half are at or above it.\n",
        "\n",
        "To find the median, put the data in ascending order; if the number of values n is odd - the median is the value at position (n+1)/2; if n is even - the median is the average of the values at positions n/2 and n/2 + 1; positions are counted from 1 after sorting.\n",
        "\n",
        "Example: 2 8 5 6 4 7 9\n",
        "\n",
        "Order: 2 4 5 6 7 8 9\n",
        "\n",
        "Median is 6, because it is on the 4th position from the 7 numbers\n",
        "\n",
        "**Mean** is the sum of all values divided by how many values there are.\n",
        "\n",
        "Formula: mean = (x1 + x2 + ... + xn) / n.\n",
        "\n",
        "Example: 2 5 6 4 7\n",
        "Mean= (2 + 5 + 6 + 4 + 7)/5= 4.8\n",
        "\n",
        "**Standard deviation** measures how spread out the data are around the mean, in the same units as the data.\n",
        "\n",
        "find the mean, subtract it from each value, square those differences, average them (divide by n for a population or by n-1 for a sample), then take the square root.\n",
        "\n",
        "Example with data 2, 4, 6, 8: mean = 5, deviations = -3, -1, 1, 3, squares = 9, 1, 1, 9, sum = 20. Population variance = 20/4 = 5, population SD = sqrt(5) ≈ 2.236. Sample variance = 20/3 ≈ 6.667, sample SD ≈ 2.582.\n",
        "\n",
        "**Quartiles (Q1 and Q3)**\n",
        "\n",
        "Q1 is the median of the lower half of the sorted data, Q3 is the median of the upper half.\n",
        "\n",
        "To calculate sort the data, find the overall median, then take the median of the lower half for Q1 and of the upper half for Q3. For odd n, exclude the overall median when forming the halves. Note: different methods can give slightly different values on small samples.\n",
        "\n",
        "Example with data 2, 4, 6, 8: sorted is 2, 4, 6, 8. Lower half 2, 4 → Q1 = (2+4)/2 = 3. Upper half 6, 8 → Q3 = (6+8)/2 = 7.\n",
        "\n",
        "**IQR (interquartile range)** is the middle 50 percent spread of the data.\n",
        "\n",
        "IQR = Q3 - Q1.\n",
        "\n",
        "Example using the quartiles above - IQR = 7 - 3 = 4.\n",
        "\n",
        "**Variance** is the average squared distance of values from the mean.\n",
        "\n",
        "Variance = sum of squared deviations divided by n for a population or by n-1 for a sample.\n",
        "\n",
        "standard deviation is the square root of variance.\n",
        "\n",
        "Example with data 2, 4, 6, 8: sum of squared deviations = 20. Population variance = 20/4 = 5. Sample variance = 20/3 ≈ 6.667. Corresponding SDs are sqrt(5) ≈ 2.236 and sqrt(6.667) ≈ 2.582.\n",
        "\n",
        "\n",
        "\n",
        "\n"
      ],
      "metadata": {
        "id": "56uyfchvsmcy"
      }
    },
    {
      "cell_type": "markdown",
      "source": [
        "#### Exercise 2\n",
        "Generate an array of random 100 numbers.\n",
        "\n",
        "Calculate the following statistics for the array:\n",
        "- Median\n",
        "- Mean\n",
        "- Standard deviation\n",
        "- First quartile (Q1)\n",
        "- Third quartile (Q3)\n",
        "- Interquartile range (IQR)\n",
        "- Variance\n",
        "\n",
        "Print the array and the calculated statistics.\n",
        "\n",
        "Example result:\n",
        "```console\n",
        "[0.17165121 0.61747645 0.39826582 0.4707236  0.61388013 0.2276911\n",
        " 0.31298085 0.20115937 0.10795451 0.22006963 0.40703735 0.02983642\n",
        " 0.308904   0.82789731 0.67563344 0.67735212 0.58701252 0.10168223\n",
        " 0.1964611  0.77288573 0.41698776 0.7372897  0.10721326 0.92445719\n",
        " 0.00173499 0.53950225 0.27424815 0.04274267 0.31071638 0.06689424\n",
        " 0.0166482  0.34950876 0.97116423 0.13551993 0.03801114 0.96580299\n",
        " 0.45665163 0.26293525 0.67950108 0.27331487 0.87291717 0.24241789\n",
        " 0.65478673 0.77976392 0.30852723 0.49931606 0.74704851 0.63121191\n",
        " 0.43296676 0.26194879 0.83004086 0.05800895 0.09099496 0.50455262\n",
        " 0.34092432 0.51825112 0.9072013  0.48224947 0.43095947 0.88140047\n",
        " 0.97092664 0.62284024 0.32432019 0.69784626 0.68389065 0.83843349\n",
        " 0.65483523 0.1089709  0.22401504 0.42183869 0.73129921 0.28488844\n",
        " 0.64106247 0.7949042  0.01754107 0.92714389 0.4125867  0.68234723\n",
        " 0.24529873 0.04389241 0.93576212 0.59933419 0.59723641 0.48393346\n",
        " 0.30273359 0.27042282 0.74436857 0.22199391 0.71667345 0.22140033\n",
        " 0.34149772 0.92076753 0.9442233  0.89750259 0.42759872 0.82726639\n",
        " 0.8555351  0.01961142 0.03418    0.20652359]\n",
        "Median: 0.43196311650405067\n",
        "Mean: 0.46870335005716784\n",
        "Std: 0.2898530747727577\n",
        "Q1: 0.2267720839331883\n",
        "Q3: 0.7025530558853881\n",
        "IQR: 0.4757809719521998\n",
        "Variance: 0.08401480495522184\n",
        "```"
      ],
      "metadata": {
        "id": "UHUhXBGNOO67"
      }
    },
    {
      "cell_type": "code",
      "source": [
        "import numpy as np\n",
        "arr = np.random.randint(0, 100, size=100)\n",
        "mean = np.mean(arr)\n",
        "median = np.median(arr)\n",
        "std = np.std(arr, ddof=0)\n",
        "var = np.var(arr, ddof=0)\n",
        "q1 = np.percentile(arr, 25)\n",
        "q3 = np.percentile(arr, 75)\n",
        "iqr = q3 - q1\n",
        "\n",
        "print(arr)\n",
        "print(\"mean:\", mean)\n",
        "print(\"median:\", median)\n",
        "print(\"std:\", std)\n",
        "print(\"var:\", var)\n",
        "print(\"Q1:\", q1)\n",
        "print(\"Q3:\", q3)\n",
        "print(\"IQR:\", iqr)\n"
      ],
      "metadata": {
        "id": "fUGEu5ZcBGlf",
        "colab": {
          "base_uri": "https://localhost:8080/"
        },
        "outputId": "aa88fe5b-0b5f-4337-d3f9-5fd004765b7d"
      },
      "execution_count": null,
      "outputs": [
        {
          "output_type": "stream",
          "name": "stdout",
          "text": [
            "[98 82 55 10 92 93 46 60 59 23 63 92 32 24 32 87 83 80 59  7 15 76 52 63\n",
            " 85 78 38  5  8 44  9 80 51 84 17 23 61 42 17 42 86  6 68 91 59 22 86 44\n",
            " 82 36 79 24 24 44 40 48 87 47 19 26 74 42  3 99 99 29 42 33 32 66 35 51\n",
            "  7 47 72 26 82  1 61 93 37 87 86 56  0 85 32 22 65 77 45  0 62 43 67 77\n",
            " 66 97 84 56]\n",
            "mean: 52.23\n",
            "median: 51.5\n",
            "std: 28.284573533995523\n",
            "var: 800.0170999999999\n",
            "Q1: 31.25\n",
            "Q3: 79.25\n",
            "IQR: 48.0\n"
          ]
        }
      ]
    },
    {
      "cell_type": "markdown",
      "source": [
        "#### Exercise 3\n",
        "Using **NumPy** library.\n",
        "\n",
        "Create an array with values from 1 to 100.\n",
        "Then, use this array to create two smaller arrays:\n",
        "one containing the odd values and the other containing the even values.\n",
        "Finally, print both arrays to the console.\n",
        "\n",
        "Expected result:\n",
        "\n",
        "```python\n",
        "Odd:\n",
        "[ 1  3  5  7  9 11 13 15 17 19 21 23 25 27 29 31 33 35 37 39 41 43 45 47\n",
        " 49 51 53 55 57 59 61 63 65 67 69 71 73 75 77 79 81 83 85 87 89 91 93 95\n",
        " 97 99]\n",
        "Even:\n",
        "[ 2  4  6  8 10 12 14 16 18 20 22 24 26 28 30 32 34 36 38 40 42 44 46 48\n",
        " 50 52 54 56 58 60 62 64 66 68 70 72 74 76 78 80 82 84 86 88 90 92 94 96\n",
        " 98]\n",
        " ```"
      ],
      "metadata": {
        "id": "2IQ5hOmZARE0"
      }
    },
    {
      "cell_type": "code",
      "source": [
        "import numpy as np\n",
        "\n",
        "array = np.arange(1, 101)\n",
        "odd = array[array % 2 == 1]\n",
        "even = array[array % 2 == 0]\n",
        "print(\"Odd:\")\n",
        "print(odd)\n",
        "print(\"\\nEven:\")\n",
        "print(even)\n"
      ],
      "metadata": {
        "id": "b1S7tvB1_lY8",
        "colab": {
          "base_uri": "https://localhost:8080/"
        },
        "outputId": "55acf9ba-fb16-4fee-e43d-4297030842c2"
      },
      "execution_count": null,
      "outputs": [
        {
          "output_type": "stream",
          "name": "stdout",
          "text": [
            "Odd:\n",
            "[ 1  3  5  7  9 11 13 15 17 19 21 23 25 27 29 31 33 35 37 39 41 43 45 47\n",
            " 49 51 53 55 57 59 61 63 65 67 69 71 73 75 77 79 81 83 85 87 89 91 93 95\n",
            " 97 99]\n",
            "\n",
            "Even:\n",
            "[  2   4   6   8  10  12  14  16  18  20  22  24  26  28  30  32  34  36\n",
            "  38  40  42  44  46  48  50  52  54  56  58  60  62  64  66  68  70  72\n",
            "  74  76  78  80  82  84  86  88  90  92  94  96  98 100]\n"
          ]
        }
      ]
    },
    {
      "cell_type": "markdown",
      "source": [
        "#### Exercise 4\n",
        "\n",
        "Create a 1D **NumPy** array of numbers from 10 to 19.\n",
        "\n",
        "Slice the array to get:\n",
        " - Elements from index 3 to 7\n",
        " - Every second element\n",
        " - Last 3 elements\n",
        " - All elements in reverse order"
      ],
      "metadata": {
        "id": "_k48-E1jJKGk"
      }
    },
    {
      "cell_type": "code",
      "source": [
        "import numpy as np\n",
        "\n",
        "arr = np.arange(10, 20)\n",
        "a = arr[3:7]\n",
        "b = arr[::2]\n",
        "c = arr[-3:]\n",
        "d = arr[::-1]\n",
        "print(a)\n",
        "print(b)\n",
        "print(c)\n",
        "print(d)"
      ],
      "metadata": {
        "id": "EBaLh2BZsv1B",
        "colab": {
          "base_uri": "https://localhost:8080/"
        },
        "outputId": "9e33d7d7-4c26-4b64-bae9-bf59b7e93f15"
      },
      "execution_count": null,
      "outputs": [
        {
          "output_type": "stream",
          "name": "stdout",
          "text": [
            "[13 14 15 16]\n",
            "[10 12 14 16 18]\n",
            "[17 18 19]\n",
            "[19 18 17 16 15 14 13 12 11 10]\n"
          ]
        }
      ]
    },
    {
      "cell_type": "markdown",
      "source": [
        "#### Exercise 5\n",
        "\n",
        "Create a 4x5 array with values from 0 to 19.\n",
        "\n",
        "Extract using slicing:\n",
        " - The second row\n",
        " - The third column\n",
        " - A subarray of the top-left 2x2 corner\n",
        " - A subarray from rows 1 to 3 and columns 2 to 4 (inclusive)"
      ],
      "metadata": {
        "id": "0rei29aaJxZ9"
      }
    },
    {
      "cell_type": "code",
      "source": [
        "arr2d = np.arange(0,20).reshape(4, 5) # reshape(rows, columns)\n",
        "print(\"Original array:\\n\", arr2d)\n",
        "\n",
        "b2d = arr2d[1]\n",
        "c2d = arr2d[:,2]\n",
        "top_left_2x2 = arr2d[:2, :2]\n",
        "sub_1to3_2to4 = arr2d[1:4, 2:5]\n",
        "\n",
        "print(\"Second row:\\n\", b2d)\n",
        "print(\"Third column:\\n\", c2d)\n",
        "print(\"Top-left 2x2:\\n\", top_left_2x2)\n",
        "print(\"Rows 1-3, Cols 2-4:\\n\", sub_1to3_2to4)\n",
        "\n",
        "\n"
      ],
      "metadata": {
        "id": "dnA1bjrxswzZ",
        "colab": {
          "base_uri": "https://localhost:8080/"
        },
        "outputId": "c9abf51c-fe52-423c-cecc-e8f2fef76ea9"
      },
      "execution_count": null,
      "outputs": [
        {
          "output_type": "stream",
          "name": "stdout",
          "text": [
            "Original array:\n",
            " [[ 0  1  2  3  4]\n",
            " [ 5  6  7  8  9]\n",
            " [10 11 12 13 14]\n",
            " [15 16 17 18 19]]\n",
            "Second row:\n",
            " [5 6 7 8 9]\n",
            "Third column:\n",
            " [ 2  7 12 17]\n",
            "Top-left 2x2:\n",
            " [[0 1]\n",
            " [5 6]]\n",
            "Rows 1-3, Cols 2-4:\n",
            " [[ 7  8  9]\n",
            " [12 13 14]\n",
            " [17 18 19]]\n"
          ]
        }
      ]
    },
    {
      "cell_type": "markdown",
      "source": [
        "#### Exercise 6\n",
        "Write a code that:\n",
        "1. Loads a CSV file `height_weight_data.csv` containing height and weight data.\n",
        "2. Skips the first row and assumes there is no header.\n",
        "3. Extracts the height column.\n",
        "4. Calculates and prints the following statistics for the height data:\n",
        "    - Mean\n",
        "    - Median\n",
        "    - Minimum and maximum\n",
        "    - First (Q1) and third (Q3) quartiles\n",
        "    - Interquartile range (IQR)\n",
        "5. Creates and displays a box plot of the height data.\n",
        "\n",
        "Use the **pandas** and **matplotlib** libraries in your code."
      ],
      "metadata": {
        "id": "yls5Sgvig6sh"
      }
    },
    {
      "cell_type": "code",
      "source": [
        "import pandas as pd\n",
        "import numpy as np\n",
        "import matplotlib.pyplot as plt\n",
        "\n",
        "df = pd.read_csv('height_weight_data.csv', header=None, skiprows=1)\n",
        "\n",
        "h = df[1].astype(float).dropna()\n",
        "\n",
        "mean = h.mean()\n",
        "median = h.median()\n",
        "hmin, hmax = h.min(), h.max()\n",
        "q1 = h.quantile(0.25)\n",
        "q3 = h.quantile(0.75)\n",
        "iqr = q3 - q1\n",
        "\n",
        "print(\n",
        "    f\"Mean: {mean}\\n\"\n",
        "    f\"Median: {median}\\n\"\n",
        "    f\"Min: {hmin}  Max: {hmax}\\n\"\n",
        "    f\"Q1: {q1}  Q3: {q3}\\n\"\n",
        "    f\"IQR: {iqr}\"\n",
        ")\n",
        "\n",
        "plt.figure()\n",
        "plt.boxplot(h, vert=True, labels=[\"Height\"])\n",
        "plt.title(\"Height distribution - box plot\")\n",
        "plt.ylabel(\"Height\")\n",
        "plt.show()"
      ],
      "metadata": {
        "id": "s2MSoBEmdKVk",
        "colab": {
          "base_uri": "https://localhost:8080/",
          "height": 573
        },
        "outputId": "774a1510-efce-49fe-bd2e-6a59a6c4973a"
      },
      "execution_count": 2,
      "outputs": [
        {
          "output_type": "stream",
          "name": "stdout",
          "text": [
            "Mean: 67.9498\n",
            "Median: 67.935\n",
            "Min: 63.43  Max: 73.9\n",
            "Q1: 66.52250000000001  Q3: 69.2025\n",
            "IQR: 2.6799999999999926\n"
          ]
        },
        {
          "output_type": "stream",
          "name": "stderr",
          "text": [
            "/tmp/ipython-input-126402878.py:31: MatplotlibDeprecationWarning: The 'labels' parameter of boxplot() has been renamed 'tick_labels' since Matplotlib 3.9; support for the old name will be dropped in 3.11.\n",
            "  plt.boxplot(h, vert=True, labels=[\"Height\"])\n"
          ]
        },
        {
          "output_type": "display_data",
          "data": {
            "text/plain": [
              "<Figure size 640x480 with 1 Axes>"
            ],
            "image/png": "[encoded data removed]"
          },
          "metadata": {}
        }
      ]
    },
    {
      "cell_type": "markdown",
      "source": [
        "#### Exercise 7\n",
        "Read the CSV file named `datasaurus.csv` into a pandas DataFrame.\n",
        "\n",
        "Then inspect the data. Retrieve and display names of datasets in the `dataset` column of the DataFrame."
      ],
      "metadata": {
        "id": "Ye_KGHnx-zZc"
      }
    },
    {
      "cell_type": "code",
      "source": [
        "import pandas as pd\n",
        "\n",
        "df = pd.read_csv('datasaurus.csv')\n",
        "\n",
        "print(df.head())\n",
        "\n",
        "names = sorted(df[\"dataset\"].astype(str).unique())\n",
        "print(\"Dataset names:\", names)\n",
        "print(\"Total:\", len(names))"
      ],
      "metadata": {
        "id": "D7wblvm1KH55",
        "colab": {
          "base_uri": "https://localhost:8080/"
        },
        "outputId": "e18e26da-0e66-41ce-b6e0-c7605e09c78a"
      },
      "execution_count": 7,
      "outputs": [
        {
          "output_type": "stream",
          "name": "stdout",
          "text": [
            "  dataset        x        y\n",
            "0    dino  55.3846  97.1795\n",
            "1    dino  51.5385  96.0256\n",
            "2    dino  46.1538  94.4872\n",
            "3    dino  42.8205  91.4103\n",
            "4    dino  40.7692  88.3333\n",
            "Dataset names: ['away', 'bullseye', 'circle', 'dino', 'dots', 'h_lines', 'high_lines', 'slant_down', 'slant_up', 'star', 'v_lines', 'wide_lines', 'x_shape']\n",
            "Total: 13\n"
          ]
        }
      ]
    },
    {
      "cell_type": "markdown",
      "source": [
        "#### Exercise 8\n",
        "Read the CSV file named `datasaurus.csv` into a pandas DataFrame.\n",
        "\n",
        "For datasets named `dino` and `circle`:\n",
        "- calculate and display for **x** values:\n",
        "  - median\n",
        "  - mean\n",
        "  - standard deviation\n",
        "  - variance\n",
        "- create and display scatter plot for both datasets"
      ],
      "metadata": {
        "id": "pEtOtgLdYlZk"
      }
    },
    {
      "cell_type": "code",
      "source": [
        "import pandas as pd\n",
        "import matplotlib.pyplot as plt\n",
        "\n",
        "df = pd.read_csv(\"datasaurus.csv\")\n",
        "\n",
        "for name in [\"dino\", \"circle\"]:\n",
        "    sub = df[df[\"dataset\"] == name]\n",
        "    x = sub[\"x\"]\n",
        "\n",
        "    mean = x.mean()\n",
        "    median = x.median()\n",
        "    std = x.std(ddof=1)\n",
        "    var = x.var(ddof=1)\n",
        "\n",
        "    print(\n",
        "        f\"{name} - mean: {mean}\\n\"\n",
        "        f\"{name} - median: {median}\\n\"\n",
        "        f\"{name} - std: {std}\\n\"\n",
        "        f\"{name} - variance: {var}\\n\"\n",
        "    )\n",
        "\n",
        "    plt.figure()\n",
        "    plt.scatter(sub[\"x\"], sub[\"y\"], s=12)\n",
        "    plt.title(f\"Scatter - {name}\")\n",
        "    plt.xlabel(\"x\")\n",
        "    plt.ylabel(\"y\")\n",
        "    plt.axis(\"equal\")\n",
        "    plt.grid(True)\n",
        "    plt.show()\n"
      ],
      "metadata": {
        "id": "VWhUY8101htk",
        "colab": {
          "base_uri": "https://localhost:8080/",
          "height": 1000
        },
        "outputId": "1864e1eb-386b-49e6-cd66-db1f65eefefc"
      },
      "execution_count": 9,
      "outputs": [
        {
          "output_type": "stream",
          "name": "stdout",
          "text": [
            "dino - mean: 54.26327323943662\n",
            "dino - median: 53.3333\n",
            "dino - std: 16.765142039116785\n",
            "dino - variance: 281.06998759176093\n",
            "\n"
          ]
        },
        {
          "output_type": "display_data",
          "data": {
            "text/plain": [
              "<Figure size 640x480 with 1 Axes>"
            ],
            "image/png": "[encoded data removed]"
          },
          "metadata": {}
        },
        {
          "output_type": "stream",
          "name": "stdout",
          "text": [
            "circle - mean: 54.267319706173936\n",
            "circle - median: 54.0232131774\n",
            "circle - std: 16.760012659672196\n",
            "circle - variance: 280.89802435237226\n",
            "\n"
          ]
        },
        {
          "output_type": "display_data",
          "data": {
            "text/plain": [
              "<Figure size 640x480 with 1 Axes>"
            ],
            "image/png": "[encoded data removed]"
          },
          "metadata": {}
        }
      ]
    },
    {
      "cell_type": "markdown",
      "source": [
        "#### Exercise 9\n",
        "Read the CSV file named `anscombes.csv` into a pandas DataFrame.\n",
        "\n",
        "Inspect the data and for each dataset calculate for **x** and **y**:\n",
        "- mean\n",
        "- median\n",
        "- standard deviation\n",
        "- variance\n",
        "\n",
        "Example print for single dataset:\n",
        "```\n",
        "Dataset I:\n",
        "Mean: 9.0\n",
        "Median: 9.0\n",
        "Std: 3.3166247903554\n",
        "Variance: 11.0\n",
        "\n",
        "Dataset II:\n",
        "...\n",
        "```"
      ],
      "metadata": {
        "id": "MmrkXj_f_E3D"
      }
    },
    {
      "cell_type": "code",
      "source": [
        "import pandas as pd\n",
        "\n",
        "df = pd.read_csv(\"anscombes.csv\")\n",
        "\n",
        "for name, g in df.groupby(\"dataset\"):\n",
        "    x = g[\"x\"]\n",
        "    y = g[\"y\"]\n",
        "\n",
        "    print(f\"Dataset {name}:\")\n",
        "    print(f\"X - Mean: {x.mean():.4f}\")\n",
        "    print(f\"X - Median: {x.median():.4f}\")\n",
        "    print(f\"X - Std: {x.std(ddof=1):.15f}\")\n",
        "    print(f\"X - Variance: {x.var(ddof=1):.4f}\\n\")\n",
        "\n",
        "    print(f\"Y - Mean: {y.mean():.4f}\")\n",
        "    print(f\"Y - Median: {y.median():.4f}\")\n",
        "    print(f\"Y - Std: {y.std(ddof=1):.15f}\")\n",
        "    print(f\"Y - Variance: {y.var(ddof=1):.4f}\\n\")\n",
        "\n"
      ],
      "metadata": {
        "id": "zCab2cs6xv6d",
        "colab": {
          "base_uri": "https://localhost:8080/"
        },
        "outputId": "3c24d05b-d367-4886-df78-5a53af007d60"
      },
      "execution_count": 13,
      "outputs": [
        {
          "output_type": "stream",
          "name": "stdout",
          "text": [
            "Dataset I:\n",
            "X - Mean: 9.0000\n",
            "X - Median: 9.0000\n",
            "X - Std: 3.316624790355400\n",
            "X - Variance: 11.0000\n",
            "\n",
            "Y - Mean: 7.5009\n",
            "Y - Median: 7.5800\n",
            "Y - Std: 2.031568135925815\n",
            "Y - Variance: 4.1273\n",
            "\n",
            "Dataset II:\n",
            "X - Mean: 9.0000\n",
            "X - Median: 9.0000\n",
            "X - Std: 3.316624790355400\n",
            "X - Variance: 11.0000\n",
            "\n",
            "Y - Mean: 7.5009\n",
            "Y - Median: 8.1400\n",
            "Y - Std: 2.031656735501618\n",
            "Y - Variance: 4.1276\n",
            "\n",
            "Dataset III:\n",
            "X - Mean: 9.0000\n",
            "X - Median: 9.0000\n",
            "X - Std: 3.316624790355400\n",
            "X - Variance: 11.0000\n",
            "\n",
            "Y - Mean: 7.5000\n",
            "Y - Median: 7.1100\n",
            "Y - Std: 2.030423601123667\n",
            "Y - Variance: 4.1226\n",
            "\n",
            "Dataset IV:\n",
            "X - Mean: 9.0000\n",
            "X - Median: 8.0000\n",
            "X - Std: 3.316624790355400\n",
            "X - Variance: 11.0000\n",
            "\n",
            "Y - Mean: 7.5009\n",
            "Y - Median: 7.0400\n",
            "Y - Std: 2.030578511387602\n",
            "Y - Variance: 4.1232\n",
            "\n"
          ]
        }
      ]
    },
    {
      "cell_type": "markdown",
      "source": [
        "#### Exercise 10\n",
        "Read the CSV file named `anscombes.csv` into a pandas DataFrame.\n",
        "\n",
        "Visualize all datasets. Try to set up the 2x2 subplot grid.\n",
        "\n",
        "Hint: `plt.subplots(2, 2, figsize=(10, 8))`\n",
        "https://matplotlib.org/stable/api/_as_gen/matplotlib.pyplot.subplots.html"
      ],
      "metadata": {
        "id": "svZpoXJt_G6j"
      }
    },
    {
      "cell_type": "code",
      "source": [
        "import pandas as pd\n",
        "import matplotlib.pyplot as plt\n",
        "\n",
        "df = pd.read_csv(\"anscombes.csv\")\n",
        "\n",
        "order = pd.unique(df[\"dataset\"])\n",
        "\n",
        "fig, axes = plt.subplots(2, 2, figsize=(10, 8))\n",
        "axes = axes.ravel()\n",
        "\n",
        "for ax, name in zip(axes, order):\n",
        "    g = df[df[\"dataset\"] == name]\n",
        "    ax.scatter(g[\"x\"], g[\"y\"], s=20)\n",
        "    ax.set_title(f\"Dataset {name}\")\n",
        "    ax.set_xlabel(\"x\")\n",
        "    ax.set_ylabel(\"y\")\n",
        "    ax.grid(True)\n",
        "    ax.set_xlim(0, 20)\n",
        "    ax.set_ylim(0, 14)\n",
        "    ax.set_aspect(\"equal\", adjustable=\"box\")\n",
        "\n",
        "plt.tight_layout()\n",
        "plt.show()\n"
      ],
      "metadata": {
        "id": "80V3F15k0a1k",
        "colab": {
          "base_uri": "https://localhost:8080/",
          "height": 785
        },
        "outputId": "72d21eba-8800-41ca-c577-0e639ea7b4fe"
      },
      "execution_count": 1,
      "outputs": [
        {
          "output_type": "display_data",
          "data": {
            "text/plain": [
              "<Figure size 1000x800 with 4 Axes>"
            ],
            "image/png": "[encoded data removed]"
          },
          "metadata": {}
        }
      ]
    },
    {
      "cell_type": "markdown",
      "source": [
        "#### Exercise 11\n",
        "What are the conclusions for exercises 8-10?"
      ],
      "metadata": {
        "id": "c0i2GKc3cF7z"
      }
    },
    {
      "cell_type": "markdown",
      "source": [
        "Different datasets can have the same mean, median, std, and variance, but the plots look totally different.On graphs we see curves, lines, clusters, and outliers that numbers hide. So we should always make scatter plots and box plots, not just print numbers."
      ],
      "metadata": {
        "id": "tKiA8VGWqwS-"
      }
    }
  ]
}